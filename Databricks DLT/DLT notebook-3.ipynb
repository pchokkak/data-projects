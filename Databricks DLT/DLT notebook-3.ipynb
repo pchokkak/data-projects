{
 "cells": [
  {
   "cell_type": "code",
   "execution_count": 0,
   "metadata": {
    "application/vnd.databricks.v1+cell": {
     "cellMetadata": {},
     "inputWidgets": {},
     "nuid": "e7386340-b80a-4150-953b-ab54d87b339f",
     "showTitle": false,
     "tableResultSettingsMap": {},
     "title": ""
    }
   },
   "outputs": [],
   "source": [
    "CREATE OR REFRESH MATERIALIZED VIEW gold.customer_order_summary \n",
    "AS\n",
    "SELECT \n",
    "    c.c_custkey,\n",
    "    c.c_name,\n",
    "    COUNT(o.o_orderkey) AS total_orders,\n",
    "    SUM(o.o_totalprice) AS total_revenue,\n",
    "    MIN(o.o_orderdate) AS first_order_date,\n",
    "    MAX(o.o_orderdate) AS last_order_date\n",
    "FROM silver.customers_silver c\n",
    "LEFT JOIN silver.orders_silver o\n",
    "  ON c.c_custkey = o.o_custkey\n",
    "GROUP BY c.c_custkey, c.c_name;"
   ]
  },
  {
   "cell_type": "code",
   "execution_count": 0,
   "metadata": {
    "application/vnd.databricks.v1+cell": {
     "cellMetadata": {},
     "inputWidgets": {},
     "nuid": "a6bb1ef3-f1d4-43c9-8946-6bd1ea2331cb",
     "showTitle": false,
     "tableResultSettingsMap": {},
     "title": ""
    }
   },
   "outputs": [],
   "source": [
    "CREATE OR REFRESH MATERIALIZED VIEW gold.monthly_order_trends\n",
    "AS\n",
    "SELECT \n",
    "    DATE_TRUNC('month', o.o_orderdate) AS order_month,\n",
    "    COUNT(o.o_orderkey) AS order_count,\n",
    "    SUM(o.o_totalprice) AS revenue\n",
    "FROM silver.orders_silver o\n",
    "GROUP BY DATE_TRUNC('month', o.o_orderdate)\n",
    "ORDER BY order_month;"
   ]
  },
  {
   "cell_type": "code",
   "execution_count": 0,
   "metadata": {
    "application/vnd.databricks.v1+cell": {
     "cellMetadata": {},
     "inputWidgets": {},
     "nuid": "f0152145-ec23-4786-ae93-406b4187a209",
     "showTitle": false,
     "tableResultSettingsMap": {},
     "title": ""
    }
   },
   "outputs": [],
   "source": [
    "CREATE OR REFRESH STREAMING TABLE exceptions.orders_invalid\n",
    "AS\n",
    "SELECT *\n",
    "FROM stream(bronze.orders)\n",
    "WHERE o_orderdate IS NULL\n",
    ";"
   ]
  },
  {
   "cell_type": "code",
   "execution_count": 0,
   "metadata": {
    "application/vnd.databricks.v1+cell": {
     "cellMetadata": {},
     "inputWidgets": {},
     "nuid": "7c59400c-71af-4286-a427-8a78df117705",
     "showTitle": false,
     "tableResultSettingsMap": {},
     "title": ""
    }
   },
   "outputs": [],
   "source": [
    "-- 3. Gold Layer: Dashboard / Expectations summary\n",
    "\n",
    "CREATE OR REFRESH MATERIALIZED VIEW gold.quality_dashboard_mv\n",
    "COMMENT \"Counts of valid vs invalid orders, customer counts\"\n",
    "AS\n",
    "SELECT\n",
    "  (SELECT COUNT(*) FROM silver.orders_silver) AS valid_orders,\n",
    "  (SELECT COUNT(*) FROM silver.customers_silver) AS total_customers\n",
    ";\n",
    "\n",
    "-- 4. Gold Layer: Customer Lifetime Value materialized as view\n",
    "\n",
    "CREATE OR REFRESH MATERIALIZED VIEW gold.customer_ltv_mv\n",
    "COMMENT \"Lifetime Value summary per customer\"\n",
    "AS\n",
    "SELECT\n",
    "  c.c_custkey,\n",
    "  c.c_name,\n",
    "  COUNT(o.o_orderkey) AS total_orders,\n",
    "  SUM(o.o_totalprice) AS total_revenue,\n",
    "  AVG(o.o_totalprice) AS avg_order_value\n",
    "FROM silver.customers_silver c\n",
    "LEFT JOIN silver.orders_silver o ON c.c_custkey = o.o_custkey\n",
    "GROUP BY c.c_custkey, c.c_name\n",
    ";"
   ]
  }
 ],
 "metadata": {
  "application/vnd.databricks.v1+notebook": {
   "computePreferences": null,
   "dashboards": [],
   "environmentMetadata": {
    "base_environment": "",
    "environment_version": "3"
   },
   "inputWidgetPreferences": null,
   "language": "sql",
   "notebookMetadata": {
    "pythonIndentUnit": 4
   },
   "notebookName": "DLT notebook-3",
   "widgets": {}
  },
  "language_info": {
   "name": "sql"
  }
 },
 "nbformat": 4,
 "nbformat_minor": 0
}
