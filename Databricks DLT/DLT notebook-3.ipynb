{
 "cells": [
  {
   "cell_type": "code",
   "execution_count": 0,
   "metadata": {
    "application/vnd.databricks.v1+cell": {
     "cellMetadata": {},
     "inputWidgets": {},
     "nuid": "e7386340-b80a-4150-953b-ab54d87b339f",
     "showTitle": false,
     "tableResultSettingsMap": {},
     "title": ""
    }
   },
   "outputs": [],
   "source": [
    "CREATE OR REFRESH MATERIALIZED VIEW gold.customer_order_summary \n",
    "AS\n",
    "SELECT \n",
    "    c.c_custkey,\n",
    "    c.c_name,\n",
    "    COUNT(o.o_orderkey) AS total_orders,\n",
    "    SUM(o.o_totalprice) AS total_revenue,\n",
    "    MIN(o.o_orderdate) AS first_order_date,\n",
    "    MAX(o.o_orderdate) AS last_order_date\n",
    "FROM silver.customers_silver c\n",
    "LEFT JOIN silver.orders_silver o\n",
    "  ON c.c_custkey = o.o_custkey\n",
    "GROUP BY c.c_custkey, c.c_name;"
   ]
  }
 ],
 "metadata": {
  "application/vnd.databricks.v1+notebook": {
   "computePreferences": null,
   "dashboards": [],
   "environmentMetadata": {
    "base_environment": "",
    "environment_version": "3"
   },
   "inputWidgetPreferences": null,
   "language": "sql",
   "notebookMetadata": {
    "pythonIndentUnit": 4
   },
   "notebookName": "DLT notebook-3",
   "widgets": {}
  },
  "language_info": {
   "name": "sql"
  }
 },
 "nbformat": 4,
 "nbformat_minor": 0
}
