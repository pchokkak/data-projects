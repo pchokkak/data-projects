{
 "cells": [
  {
   "cell_type": "code",
   "execution_count": 0,
   "metadata": {
    "application/vnd.databricks.v1+cell": {
     "cellMetadata": {},
     "inputWidgets": {},
     "nuid": "80f12a3e-5cbf-4968-9321-de44b6b62ef7",
     "showTitle": false,
     "tableResultSettingsMap": {},
     "title": ""
    }
   },
   "outputs": [],
   "source": [
    "-- Customers Silver (deduplicate + drop invalid custkey)\n",
    "CREATE OR REFRESH MATERIALIZED VIEW silver.customers_silver(\n",
    "CONSTRAINT valid_custkey EXPECT (c_custkey IS NOT NULL) ON VIOLATION DROP ROW)\n",
    "AS\n",
    "SELECT DISTINCT *\n",
    "FROM (bronze.customers);\n",
    "\n",
    "-------------------------------------------------------------\n",
    "\n",
    "-- Orders Silver (drop invalid orderdate, negative price, null custkey)\n",
    "CREATE OR REFRESH MATERIALIZED VIEW silver.orders_silver(\n",
    "CONSTRAINT valid_orderdate EXPECT (o_orderdate IS NOT NULL) ON VIOLATION DROP ROW,\n",
    "CONSTRAINT valid_totalprice EXPECT (o_totalprice >= 0) ON VIOLATION DROP ROW,\n",
    "CONSTRAINT valid_custkey EXPECT (o_custkey IS NOT NULL) ON VIOLATION DROP ROW)\n",
    "AS\n",
    "SELECT *\n",
    "FROM (bronze.orders);\n",
    "\n",
    "-------------------------------------------------------------\n",
    "\n",
    "-- Nation Silver (drop missing nation or region keys)\n",
    "CREATE OR REFRESH STREAMING TABLE silver.nation_silver(\n",
    "CONSTRAINT valid_nationkey EXPECT (n_nationkey IS NOT NULL) ON VIOLATION DROP ROW,\n",
    "CONSTRAINT valid_regionkey EXPECT (n_regionkey IS NOT NULL) ON VIOLATION DROP ROW)\n",
    "AS\n",
    "SELECT DISTINCT *\n",
    "FROM STREAM(bronze.nation);\n",
    "\n",
    "-------------------------------------------------------------\n",
    "\n",
    "-- Region Silver (drop missing region key)\n",
    "CREATE OR REFRESH MATERIALIZED VIEW silver.region_silver(\n",
    "CONSTRAINT valid_regionkey EXPECT (r_regionkey IS NOT NULL) ON VIOLATION DROP ROW)\n",
    "AS\n",
    "SELECT DISTINCT *\n",
    "FROM (bronze.region);"
   ]
  }
 ],
 "metadata": {
  "application/vnd.databricks.v1+notebook": {
   "computePreferences": {
    "hardware": {
     "accelerator": null,
     "gpuPoolId": null,
     "memory": null
    }
   },
   "dashboards": [],
   "environmentMetadata": {
    "base_environment": "",
    "environment_version": "3"
   },
   "inputWidgetPreferences": null,
   "language": "sql",
   "notebookMetadata": {
    "pythonIndentUnit": 4
   },
   "notebookName": "DLT notebook-2",
   "widgets": {}
  },
  "language_info": {
   "name": "sql"
  }
 },
 "nbformat": 4,
 "nbformat_minor": 0
}
