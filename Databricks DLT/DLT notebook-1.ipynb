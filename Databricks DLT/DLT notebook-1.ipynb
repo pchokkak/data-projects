{
 "cells": [
  {
   "cell_type": "code",
   "execution_count": 0,
   "metadata": {
    "application/vnd.databricks.v1+cell": {
     "cellMetadata": {},
     "inputWidgets": {},
     "nuid": "b5abdf8d-4567-49db-9e69-0b5b090fae0c",
     "showTitle": false,
     "tableResultSettingsMap": {},
     "title": ""
    }
   },
   "outputs": [],
   "source": [
    "-- Customers Bronze\n",
    "CREATE OR REFRESH STREAMING TABLE bronze.customers \n",
    "AS\n",
    "SELECT *,current_timestamp() AS ingestion_ts \n",
    "FROM stream samples.tpch.customer;\n",
    "\n",
    "-- Orders Bronze\n",
    "CREATE OR REFRESH STREAMING TABLE bronze.orders AS\n",
    "SELECT\n",
    "  *,\n",
    "  current_timestamp() AS ingestion_ts\n",
    "FROM\n",
    "  stream samples.tpch.orders\n",
    "where\n",
    "  o_orderdate < '1993-01-01';\n",
    "\n",
    "-- Nation Bronze\n",
    "CREATE OR REFRESH STREAMING TABLE bronze.nation AS\n",
    "SELECT\n",
    "  *,\n",
    "  current_timestamp() AS ingestion_ts\n",
    "FROM\n",
    "  stream samples.tpch.nation;\n",
    "\n",
    "-- Region Bronze\n",
    "CREATE OR REFRESH STREAMING TABLE bronze.region AS\n",
    "SELECT\n",
    "  *,\n",
    "  current_timestamp() AS ingestion_ts\n",
    "FROM\n",
    "  stream samples.tpch.region;"
   ]
  }
 ],
 "metadata": {
  "application/vnd.databricks.v1+notebook": {
   "computePreferences": {
    "hardware": {
     "accelerator": null,
     "gpuPoolId": null,
     "memory": null
    }
   },
   "dashboards": [],
   "environmentMetadata": {
    "base_environment": "",
    "environment_version": "3"
   },
   "inputWidgetPreferences": null,
   "language": "sql",
   "notebookMetadata": {
    "pythonIndentUnit": 4
   },
   "notebookName": "DLT notebook-1",
   "widgets": {}
  },
  "language_info": {
   "name": "sql"
  }
 },
 "nbformat": 4,
 "nbformat_minor": 0
}
